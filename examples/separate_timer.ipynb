{
 "cells": [
  {
   "cell_type": "markdown",
   "source": [
    "# Speed of  different functions"
   ],
   "metadata": {
    "collapsed": false
   }
  },
  {
   "cell_type": "code",
   "execution_count": 92,
   "outputs": [
    {
     "name": "stdout",
     "output_type": "stream",
     "text": [
      "141 µs ± 19.4 µs per loop (mean ± std. dev. of 7 runs, 10,000 loops each)\n",
      "691 µs ± 617 ns per loop (mean ± std. dev. of 7 runs, 1,000 loops each)\n",
      "4.09 ms ± 14.1 µs per loop (mean ± std. dev. of 7 runs, 100 loops each)\n",
      "28.3 ms ± 67.4 µs per loop (mean ± std. dev. of 7 runs, 10 loops each)\n",
      "227 ms ± 1.1 ms per loop (mean ± std. dev. of 7 runs, 1 loop each)\n",
      "2.05 s ± 20.6 ms per loop (mean ± std. dev. of 7 runs, 1 loop each)\n",
      "20.4 s ± 44.2 ms per loop (mean ± std. dev. of 7 runs, 1 loop each)\n"
     ]
    }
   ],
   "source": [
    "import numpy as np\n",
    "import pandas as pd\n",
    "\n",
    "sum = 0\n",
    "for i in range(3,10):\n",
    "\n",
    "    A = np.random.randint(0,5,(i,i))\n",
    "    b = np.random.randint(0,5,(i,1))\n",
    "    time = %timeit -o mult(inv(A), b)\n",
    "    sum_mult = sum+time.average"
   ],
   "metadata": {
    "collapsed": false
   }
  },
  {
   "cell_type": "code",
   "execution_count": 97,
   "outputs": [
    {
     "name": "stdout",
     "output_type": "stream",
     "text": [
      "689 µs ± 97.9 µs per loop (mean ± std. dev. of 7 runs, 1,000 loops each)\n",
      "4.08 ms ± 105 µs per loop (mean ± std. dev. of 7 runs, 100 loops each)\n",
      "28.3 ms ± 145 µs per loop (mean ± std. dev. of 7 runs, 10 loops each)\n",
      "227 ms ± 778 µs per loop (mean ± std. dev. of 7 runs, 1 loop each)\n",
      "2.09 s ± 103 ms per loop (mean ± std. dev. of 7 runs, 1 loop each)\n",
      "20.4 s ± 177 ms per loop (mean ± std. dev. of 7 runs, 1 loop each)\n",
      "107 µs ± 171 ns per loop (mean ± std. dev. of 7 runs, 10,000 loops each)\n",
      "684 µs ± 70.9 µs per loop (mean ± std. dev. of 7 runs, 1,000 loops each)\n",
      "4.01 ms ± 10.7 µs per loop (mean ± std. dev. of 7 runs, 100 loops each)\n",
      "28.2 ms ± 78.6 µs per loop (mean ± std. dev. of 7 runs, 10 loops each)\n",
      "226 ms ± 1.06 ms per loop (mean ± std. dev. of 7 runs, 1 loop each)\n",
      "2.03 s ± 6.13 ms per loop (mean ± std. dev. of 7 runs, 1 loop each)\n",
      "20.4 s ± 127 ms per loop (mean ± std. dev. of 7 runs, 1 loop each)\n"
     ]
    }
   ],
   "source": [
    "sum = 0\n",
    "for i in range(3,10):\n",
    "\n",
    "    A = np.random.randint(0,5,(i,i))\n",
    "    b = np.random.randint(0,5,(i,1))\n",
    "    time = %timeit -o solve(A, b)\n",
    "    sum_solve = sum+time.average"
   ],
   "metadata": {
    "collapsed": false
   }
  },
  {
   "cell_type": "code",
   "execution_count": 94,
   "outputs": [
    {
     "name": "stdout",
     "output_type": "stream",
     "text": [
      "5.4 µs ± 5.92 ns per loop (mean ± std. dev. of 7 runs, 100,000 loops each)\n",
      "5.47 µs ± 68.4 ns per loop (mean ± std. dev. of 7 runs, 100,000 loops each)\n",
      "5.64 µs ± 5.95 ns per loop (mean ± std. dev. of 7 runs, 100,000 loops each)\n",
      "5.72 µs ± 7.29 ns per loop (mean ± std. dev. of 7 runs, 100,000 loops each)\n",
      "5.93 µs ± 107 ns per loop (mean ± std. dev. of 7 runs, 100,000 loops each)\n",
      "6.53 µs ± 753 ns per loop (mean ± std. dev. of 7 runs, 100,000 loops each)\n"
     ]
    }
   ],
   "source": [
    "sum = 0\n",
    "for i in range(3,9):\n",
    "\n",
    "    A = np.random.randint(0,5,(i,i))\n",
    "    b = np.random.randint(0,5,(i,1))\n",
    "    time = %timeit -o np.linalg.solve(A, b)\n",
    "    sum_np = sum + time.average"
   ],
   "metadata": {
    "collapsed": false
   }
  },
  {
   "cell_type": "code",
   "execution_count": 95,
   "outputs": [],
   "source": [
    "data = pd.DataFrame({'Time':[sum_mult,sum_solve, sum_np]},index=['mult(inv(a),b)','solve(a,b)','np.linalg.solve'])"
   ],
   "metadata": {
    "collapsed": false
   }
  },
  {
   "cell_type": "code",
   "execution_count": 96,
   "outputs": [
    {
     "data": {
      "text/plain": "                      Time\nmult(inv(a),b)   20.434928\nsolve(a,b)       20.354669\nnp.linalg.solve   0.000007",
      "text/html": "<div>\n<style scoped>\n    .dataframe tbody tr th:only-of-type {\n        vertical-align: middle;\n    }\n\n    .dataframe tbody tr th {\n        vertical-align: top;\n    }\n\n    .dataframe thead th {\n        text-align: right;\n    }\n</style>\n<table border=\"1\" class=\"dataframe\">\n  <thead>\n    <tr style=\"text-align: right;\">\n      <th></th>\n      <th>Time</th>\n    </tr>\n  </thead>\n  <tbody>\n    <tr>\n      <th>mult(inv(a),b)</th>\n      <td>20.434928</td>\n    </tr>\n    <tr>\n      <th>solve(a,b)</th>\n      <td>20.354669</td>\n    </tr>\n    <tr>\n      <th>np.linalg.solve</th>\n      <td>0.000007</td>\n    </tr>\n  </tbody>\n</table>\n</div>"
     },
     "execution_count": 96,
     "metadata": {},
     "output_type": "execute_result"
    }
   ],
   "source": [
    "data"
   ],
   "metadata": {
    "collapsed": false
   }
  },
  {
   "cell_type": "code",
   "execution_count": null,
   "outputs": [],
   "source": [],
   "metadata": {
    "collapsed": false
   }
  }
 ],
 "metadata": {
  "kernelspec": {
   "display_name": "Python 3",
   "language": "python",
   "name": "python3"
  },
  "language_info": {
   "codemirror_mode": {
    "name": "ipython",
    "version": 2
   },
   "file_extension": ".py",
   "mimetype": "text/x-python",
   "name": "python",
   "nbconvert_exporter": "python",
   "pygments_lexer": "ipython2",
   "version": "2.7.6"
  }
 },
 "nbformat": 4,
 "nbformat_minor": 0
}
