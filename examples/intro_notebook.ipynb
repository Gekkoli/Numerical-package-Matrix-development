{
 "cells": [
  {
   "cell_type": "markdown",
   "metadata": {},
   "source": [
    "# Introduction to the mpm_la package"
   ]
  },
  {
   "cell_type": "markdown",
   "metadata": {},
   "source": [
    "This numerical package is about linear algebra manipulations includes finding the determinant of a matrix, multiplying matrices, finding the adjugate matrix, finding the inverse of a matrix, and solving primary linear equations"
   ]
  },
  {
   "cell_type": "markdown",
   "metadata": {},
   "source": [
    "## 1 Functions"
   ]
  },
  {
   "cell_type": "markdown",
   "metadata": {},
   "source": [
    "### 1.1 mpm_la.det(a)\n",
    "    This function calculates the determinant of the input matrix 'a' 'a' should be a square matrix (n x n), return None when 'a' is not a square matrix. 'a' can be a numpy array or list of list."
   ]
  },
  {
   "cell_type": "markdown",
   "metadata": {},
   "source": [
    "##### 1.1.1 An Example"
   ]
  },
  {
   "cell_type": "code",
   "execution_count": null,
   "metadata": {},
   "outputs": [],
   "source": [
    ">>> import mpm_la\n",
    ">>> a = [[2, 0, -1], [0, 5, 6], [0, -1, 1]]\n",
    ">>> d = mpm_la.det(a)\n",
    ">>> d\n",
    "22.0"
   ]
  },
  {
   "cell_type": "markdown",
   "metadata": {},
   "source": [
    "### 1.2 mpm_la.mult(a, b)\n",
    "    This function calculates the multiplication of the input matrix 'a' and 'b'. The number of rows of matrix 'a' should be equal to the number of columns of 'b'. If 'a' and 'b' cannot be multiplied, it will return None. Both 'a' and 'b'can be numpy array or list of list."
   ]
  },
  {
   "cell_type": "markdown",
   "metadata": {},
   "source": [
    "##### 1.2.1 An Example"
   ]
  },
  {
   "cell_type": "code",
   "execution_count": null,
   "metadata": {},
   "outputs": [],
   "source": [
    ">>> import mpm_la\n",
    ">>> a = [[1, 2], [3, 4]]\n",
    ">>> b = [[5, 1], [6, 2]]\n",
    ">>> d = mpm_la.mult(a, b)\n",
    ">>> d\n",
    "array([[17.,  5.],\n",
    "       [39., 11.]])"
   ]
  },
  {
   "cell_type": "markdown",
   "metadata": {},
   "source": [
    "### 1.3 mpm_la.adj(a)\n",
    "    This function is used to get the adjugate matrix of the input matrix 'a'. 'a' should be a square matrix, otherwise it will return None. 'a' can be a numpy array or list of list."
   ]
  },
  {
   "cell_type": "markdown",
   "metadata": {},
   "source": [
    "##### 1.3.1 An Example"
   ]
  },
  {
   "cell_type": "code",
   "execution_count": null,
   "metadata": {},
   "outputs": [],
   "source": [
    ">>> import mpm_la\n",
    ">>> a = [[1,0,-1],[-2,3,0],[1,-3,2]]\n",
    ">>> d = mpm_la.adj(a)\n",
    ">>> d\n",
    "array([[6., 3., 3.],\n",
    "       [4., 3., 2.],\n",
    "       [3., 3., 3.]])"
   ]
  },
  {
   "cell_type": "markdown",
   "metadata": {},
   "source": [
    "### 1.4 mpm_la.inv(a)\n",
    "    This function is used to obtain the inverse matrix of the input matrix 'a'. 'a' should be a square matrix and the determinate of 'a' should not be 0, otherwise it will return None. 'a' can be a numpy array or list of list."
   ]
  },
  {
   "cell_type": "markdown",
   "metadata": {},
   "source": [
    "##### 1.4.1 An Example"
   ]
  },
  {
   "cell_type": "code",
   "execution_count": null,
   "metadata": {},
   "outputs": [],
   "source": [
    ">>> import mpm_la\n",
    ">>> a = [[1,0,-1],[-2,3,0],[1,-3,2]]\n",
    ">>> d = mpm_la.inv(a)\n",
    ">>> d\n",
    "array([[2.        , 1.        , 1.        ],\n",
    "       [1.33333333, 1.        , 0.66666667],\n",
    "       [1.        , 1.        , 1.        ]])"
   ]
  },
  {
   "cell_type": "markdown",
   "metadata": {},
   "source": [
    "### 1.5 mpm_la.solve(a)\n",
    "    This function uses Cramer's method for solving the linear system equation (Ax = b). a is a square matrix and b is a single column matrix. 'a' is the coefficient matrix and b is the constant matrix. 'a' should be a square matrix and the determinate of 'a' should not be 0, otherwise it will return None. 'a' can be a numpy array or list of list."
   ]
  },
  {
   "cell_type": "markdown",
   "metadata": {},
   "source": [
    "##### 1.5.1 An Example"
   ]
  },
  {
   "cell_type": "code",
   "execution_count": null,
   "metadata": {},
   "outputs": [],
   "source": [
    ">>> import mpm_la\n",
    ">>> a = [[1, 1, 1], [-1, 1, 1],[-1, -1, 1]]\n",
    ">>> b = [[1], [2], [-1]]\n",
    ">>> x = mpm_la.solve(a, b)\n",
    ">>> x\n",
    "array([[-0.5],\n",
    "       [ 1.5],\n",
    "       [ 0. ]])"
   ]
  }
 ],
 "metadata": {
  "kernelspec": {
   "display_name": "Python 3 (ipykernel)",
   "language": "python",
   "name": "python3"
  },
  "language_info": {
   "codemirror_mode": {
    "name": "ipython",
    "version": 3
   },
   "file_extension": ".py",
   "mimetype": "text/x-python",
   "name": "python",
   "nbconvert_exporter": "python",
   "pygments_lexer": "ipython3",
   "version": "3.10.6"
  }
 },
 "nbformat": 4,
 "nbformat_minor": 1
}
